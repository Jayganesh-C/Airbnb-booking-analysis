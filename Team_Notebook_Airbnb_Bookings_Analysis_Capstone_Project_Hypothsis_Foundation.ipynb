{
  "nbformat": 4,
  "nbformat_minor": 0,
  "metadata": {
    "kernelspec": {
      "display_name": "Python 3",
      "language": "python",
      "name": "python3"
    },
    "language_info": {
      "codemirror_mode": {
        "name": "ipython",
        "version": 3
      },
      "file_extension": ".py",
      "mimetype": "text/x-python",
      "name": "python",
      "nbconvert_exporter": "python",
      "pygments_lexer": "ipython3",
      "version": "3.6.6"
    },
    "colab": {
      "provenance": [],
      "collapsed_sections": [],
      "include_colab_link": true
    }
  },
  "cells": [
    {
      "cell_type": "markdown",
      "metadata": {
        "id": "view-in-github",
        "colab_type": "text"
      },
      "source": [
        "<a href=\"https://colab.research.google.com/github/Jayganesh-C/Airbnb-booking-analysis/blob/main/Team_Notebook_Airbnb_Bookings_Analysis_Capstone_Project_Hypothsis_Foundation.ipynb\" target=\"_parent\"><img src=\"https://colab.research.google.com/assets/colab-badge.svg\" alt=\"Open In Colab\"/></a>"
      ]
    },
    {
      "cell_type": "markdown",
      "metadata": {
        "id": "Y06xIdG26kRF"
      },
      "source": [
        "## <b> Since 2008, guests and hosts have used Airbnb to expand on traveling possibilities and present a more unique, personalized way of experiencing the world. Today, Airbnb became one of a kind service that is used and recognized by the whole world. Data analysis on millions of listings provided through Airbnb is a crucial factor for the company. These millions of listings generate a lot of data - data that can be analyzed and used for security, business decisions, understanding of customers' and providers' (hosts) behavior and performance on the platform, guiding marketing initiatives, implementation of innovative additional services and much more. </b>\n",
        "\n",
        "## <b>This dataset has around 49,000 observations in it with 16 columns and it is a mix between categorical and numeric values. </b>\n",
        "\n",
        "## <b> Explore and analyze the data to discover key understandings (not limited to these) such as : \n",
        "* What can we learn about different hosts and areas?\n",
        "* What can we learn from predictions? (ex: locations, prices, reviews, etc)\n",
        "* Which hosts are the busiest and why?\n",
        "* Is there any noticeable difference of traffic among different areas and what could be the reason for it? </b>"
      ]
    },
    {
      "cell_type": "markdown",
      "source": [
        "1.Pie chart of popular neighborhood group based on number of reviews \n",
        "\n",
        "2.Busiest hosts plotted in number of reviews vs neighborhood group\n",
        "\n",
        "3. Show the graph of neighborhood group and neighborhood and see the relationship "
      ],
      "metadata": {
        "id": "m1u1gJ3TKtO4"
      }
    },
    {
      "cell_type": "markdown",
      "source": [
        "#### **Import necessary modules required.**"
      ],
      "metadata": {
        "id": "gQzp-xmuACEF"
      }
    },
    {
      "cell_type": "code",
      "metadata": {
        "id": "dByMsuzT8Tnw"
      },
      "source": [
        "from google.colab import drive\n",
        "import matplotlib.pyplot as plt\n",
        "import pandas as pd\n",
        "import numpy as np\n",
        "import seaborn as sns\n",
        "!pip install haversine\n",
        "import haversine as hs\n",
        "%matplotlib inline\n",
        "drive.mount('/content/drive')"
      ],
      "execution_count": null,
      "outputs": []
    },
    {
      "cell_type": "code",
      "source": [
        "air_bnb_df = pd.read_csv('/content/drive/MyDrive/Colab Notebooks/EDA Capstone 1/Airbnb NYC 2019.csv')"
      ],
      "metadata": {
        "id": "EDmG52btNEUo"
      },
      "execution_count": null,
      "outputs": []
    },
    {
      "cell_type": "markdown",
      "source": [
        "### **Making sure the columns neighbourhood_group, room_type, price, number_of_reviews, room_type and availability_365 does not have null or NaN values**"
      ],
      "metadata": {
        "id": "kc9YBuYTuPMy"
      }
    },
    {
      "cell_type": "code",
      "source": [
        "air_bnb_df.isnull().sum()"
      ],
      "metadata": {
        "colab": {
          "base_uri": "https://localhost:8080/"
        },
        "outputId": "8ae5aeae-c834-4532-fb21-ad56106a413a",
        "id": "cdUSejw4AXhe"
      },
      "execution_count": null,
      "outputs": [
        {
          "output_type": "execute_result",
          "data": {
            "text/plain": [
              "id                                    0\n",
              "name                                 16\n",
              "host_id                               0\n",
              "host_name                            21\n",
              "neighbourhood_group                   0\n",
              "neighbourhood                         0\n",
              "latitude                              0\n",
              "longitude                             0\n",
              "room_type                             0\n",
              "price                                 0\n",
              "minimum_nights                        0\n",
              "number_of_reviews                     0\n",
              "last_review                       10052\n",
              "reviews_per_month                 10052\n",
              "calculated_host_listings_count        0\n",
              "availability_365                      0\n",
              "dtype: int64"
            ]
          },
          "metadata": {},
          "execution_count": 5
        }
      ]
    },
    {
      "cell_type": "markdown",
      "source": [
        "**Inference**\n",
        "\n",
        "From table we can see that none of the columns have none values."
      ],
      "metadata": {
        "id": "xvn9bdPVwjTK"
      }
    },
    {
      "cell_type": "markdown",
      "source": [
        "### **Analysing the price amoung various neighborhood group and neighborhood**"
      ],
      "metadata": {
        "id": "nFUtTzocAjdd"
      }
    },
    {
      "cell_type": "code",
      "source": [
        "# Find the mean price by grouping by room type and neighbourhood group \n",
        "room_type_df = air_bnb_df.groupby(['room_type','neighbourhood_group'])['price'].mean().sort_values(ascending=True)\n",
        "room_type_df.plot(kind='bar').set_title('price vs room_type/neighbourhood_group')\n",
        "plt.xlabel(\"Room type/Neighbourhood group\")\n",
        "plt.ylabel(\"Price\")\n",
        "plt.show()"
      ],
      "metadata": {
        "colab": {
          "base_uri": "https://localhost:8080/",
          "height": 445
        },
        "outputId": "90a47d74-d5c4-4264-e729-368ef6effd64",
        "id": "1uviSHWIAjde"
      },
      "execution_count": null,
      "outputs": [
        {
          "output_type": "display_data",
          "data": {
            "text/plain": [
              "<Figure size 432x288 with 1 Axes>"
            ],
            "image/png": "[encoded data removed]"
          },
          "metadata": {
            "needs_background": "light"
          }
        }
      ]
    },
    {
      "cell_type": "code",
      "source": [
        "# Find price for each room type and find the mean for the room types\n",
        "price_df = air_bnb_df.groupby(['room_type'])['price'].mean().sort_values(ascending=True)\n",
        "price_df.astype(int)\n",
        "# Convert it into dataFrame and setting index for it\n",
        "price_df = price_df.to_frame()\n",
        "price_df = price_df.reset_index()\n",
        "price_df.head()"
      ],
      "metadata": {
        "colab": {
          "base_uri": "https://localhost:8080/",
          "height": 143
        },
        "outputId": "dc71490f-96be-40c0-c728-dbb801874033",
        "id": "eQv4XRCTAjdf"
      },
      "execution_count": null,
      "outputs": [
        {
          "output_type": "execute_result",
          "data": {
            "text/plain": [
              "         room_type       price\n",
              "0      Shared room   70.127586\n",
              "1     Private room   89.780973\n",
              "2  Entire home/apt  211.794246"
            ],
            "text/html": [
              "\n",
              "  <div id=\"df-a93e5657-0a88-4d55-93c1-e29178b185f6\">\n",
              "    <div class=\"colab-df-container\">\n",
              "      <div>\n",
              "<style scoped>\n",
              "    .dataframe tbody tr th:only-of-type {\n",
              "        vertical-align: middle;\n",
              "    }\n",
              "\n",
              "    .dataframe tbody tr th {\n",
              "        vertical-align: top;\n",
              "    }\n",
              "\n",
              "    .dataframe thead th {\n",
              "        text-align: right;\n",
              "    }\n",
              "</style>\n",
              "<table border=\"1\" class=\"dataframe\">\n",
              "  <thead>\n",
              "    <tr style=\"text-align: right;\">\n",
              "      <th></th>\n",
              "      <th>room_type</th>\n",
              "      <th>price</th>\n",
              "    </tr>\n",
              "  </thead>\n",
              "  <tbody>\n",
              "    <tr>\n",
              "      <th>0</th>\n",
              "      <td>Shared room</td>\n",
              "      <td>70.127586</td>\n",
              "    </tr>\n",
              "    <tr>\n",
              "      <th>1</th>\n",
              "      <td>Private room</td>\n",
              "      <td>89.780973</td>\n",
              "    </tr>\n",
              "    <tr>\n",
              "      <th>2</th>\n",
              "      <td>Entire home/apt</td>\n",
              "      <td>211.794246</td>\n",
              "    </tr>\n",
              "  </tbody>\n",
              "</table>\n",
              "</div>\n",
              "      <button class=\"colab-df-convert\" onclick=\"convertToInteractive('df-a93e5657-0a88-4d55-93c1-e29178b185f6')\"\n",
              "              title=\"Convert this dataframe to an interactive table.\"\n",
              "              style=\"display:none;\">\n",
              "        \n",
              "  <svg xmlns=\"http://www.w3.org/2000/svg\" height=\"24px\"viewBox=\"0 0 24 24\"\n",
              "       width=\"24px\">\n",
              "    <path d=\"M0 0h24v24H0V0z\" fill=\"none\"/>\n",
              "    <path d=\"M18.56 5.44l.94 2.06.94-2.06 2.06-.94-2.06-.94-.94-2.06-.94 2.06-2.06.94zm-11 1L8.5 8.5l.94-2.06 2.06-.94-2.06-.94L8.5 2.5l-.94 2.06-2.06.94zm10 10l.94 2.06.94-2.06 2.06-.94-2.06-.94-.94-2.06-.94 2.06-2.06.94z\"/><path d=\"M17.41 7.96l-1.37-1.37c-.4-.4-.92-.59-1.43-.59-.52 0-1.04.2-1.43.59L10.3 9.45l-7.72 7.72c-.78.78-.78 2.05 0 2.83L4 21.41c.39.39.9.59 1.41.59.51 0 1.02-.2 1.41-.59l7.78-7.78 2.81-2.81c.8-.78.8-2.07 0-2.86zM5.41 20L4 18.59l7.72-7.72 1.47 1.35L5.41 20z\"/>\n",
              "  </svg>\n",
              "      </button>\n",
              "      \n",
              "  <style>\n",
              "    .colab-df-container {\n",
              "      display:flex;\n",
              "      flex-wrap:wrap;\n",
              "      gap: 12px;\n",
              "    }\n",
              "\n",
              "    .colab-df-convert {\n",
              "      background-color: #E8F0FE;\n",
              "      border: none;\n",
              "      border-radius: 50%;\n",
              "      cursor: pointer;\n",
              "      display: none;\n",
              "      fill: #1967D2;\n",
              "      height: 32px;\n",
              "      padding: 0 0 0 0;\n",
              "      width: 32px;\n",
              "    }\n",
              "\n",
              "    .colab-df-convert:hover {\n",
              "      background-color: #E2EBFA;\n",
              "      box-shadow: 0px 1px 2px rgba(60, 64, 67, 0.3), 0px 1px 3px 1px rgba(60, 64, 67, 0.15);\n",
              "      fill: #174EA6;\n",
              "    }\n",
              "\n",
              "    [theme=dark] .colab-df-convert {\n",
              "      background-color: #3B4455;\n",
              "      fill: #D2E3FC;\n",
              "    }\n",
              "\n",
              "    [theme=dark] .colab-df-convert:hover {\n",
              "      background-color: #434B5C;\n",
              "      box-shadow: 0px 1px 3px 1px rgba(0, 0, 0, 0.15);\n",
              "      filter: drop-shadow(0px 1px 2px rgba(0, 0, 0, 0.3));\n",
              "      fill: #FFFFFF;\n",
              "    }\n",
              "  </style>\n",
              "\n",
              "      <script>\n",
              "        const buttonEl =\n",
              "          document.querySelector('#df-a93e5657-0a88-4d55-93c1-e29178b185f6 button.colab-df-convert');\n",
              "        buttonEl.style.display =\n",
              "          google.colab.kernel.accessAllowed ? 'block' : 'none';\n",
              "\n",
              "        async function convertToInteractive(key) {\n",
              "          const element = document.querySelector('#df-a93e5657-0a88-4d55-93c1-e29178b185f6');\n",
              "          const dataTable =\n",
              "            await google.colab.kernel.invokeFunction('convertToInteractive',\n",
              "                                                     [key], {});\n",
              "          if (!dataTable) return;\n",
              "\n",
              "          const docLinkHtml = 'Like what you see? Visit the ' +\n",
              "            '<a target=\"_blank\" href=https://colab.research.google.com/notebooks/data_table.ipynb>data table notebook</a>'\n",
              "            + ' to learn more about interactive tables.';\n",
              "          element.innerHTML = '';\n",
              "          dataTable['output_type'] = 'display_data';\n",
              "          await google.colab.output.renderOutput(dataTable, element);\n",
              "          const docLink = document.createElement('div');\n",
              "          docLink.innerHTML = docLinkHtml;\n",
              "          element.appendChild(docLink);\n",
              "        }\n",
              "      </script>\n",
              "    </div>\n",
              "  </div>\n",
              "  "
            ]
          },
          "metadata": {},
          "execution_count": 16
        }
      ]
    },
    {
      "cell_type": "markdown",
      "source": [
        "**Inference**\n",
        "\n",
        "1.We can see from the table that (Shared room and Private room) is move affordable when compared to Entire home/apt.\n",
        "\n",
        "2.From the graph we can see that Entire home/apt is most costly and Shared Room in Brooklyn is cheapest."
      ],
      "metadata": {
        "id": "oPqbQnqfxO_9"
      }
    },
    {
      "cell_type": "markdown",
      "source": [
        "### **Analysis of reviews for various neighbourhood_groups to get a better picture**\n",
        "\n"
      ],
      "metadata": {
        "id": "CPkp2HALAjdh"
      }
    },
    {
      "cell_type": "code",
      "source": [
        "# Getting the total number of reviews and group by neighbourhood group\n",
        "number_of_reviews_df = air_bnb_df.groupby(['neighbourhood_group'])['number_of_reviews'].sum()\n",
        "# Convert it into a dataframe\n",
        "number_of_reviews_df = number_of_reviews_df.to_frame()\n",
        "# Resetting the index \n",
        "number_of_reviews_df = number_of_reviews_df.reset_index()\n",
        "# Calculating the percentage and creating a new column for it\n",
        "total_reviews = number_of_reviews_df['number_of_reviews'].sum()\n",
        "number_of_reviews_df['review_percentage'] = number_of_reviews_df['number_of_reviews'] / number_of_reviews_df['number_of_reviews'].sum() * 100\n",
        "number_of_reviews_df.head()"
      ],
      "metadata": {
        "id": "23dMD8tdI_sy",
        "colab": {
          "base_uri": "https://localhost:8080/",
          "height": 206
        },
        "outputId": "7e5443f9-f503-477c-f742-24fd3dbacf99"
      },
      "execution_count": null,
      "outputs": [
        {
          "output_type": "execute_result",
          "data": {
            "text/plain": [
              "  neighbourhood_group  number_of_reviews  review_percentage\n",
              "0               Bronx              28371           2.493047\n",
              "1            Brooklyn             486574          42.756754\n",
              "2           Manhattan             454569          39.944376\n",
              "3              Queens             156950          13.791679\n",
              "4       Staten Island              11541           1.014143"
            ],
            "text/html": [
              "\n",
              "  <div id=\"df-7dd267a7-6813-413a-ae60-6dbfdadeee57\">\n",
              "    <div class=\"colab-df-container\">\n",
              "      <div>\n",
              "<style scoped>\n",
              "    .dataframe tbody tr th:only-of-type {\n",
              "        vertical-align: middle;\n",
              "    }\n",
              "\n",
              "    .dataframe tbody tr th {\n",
              "        vertical-align: top;\n",
              "    }\n",
              "\n",
              "    .dataframe thead th {\n",
              "        text-align: right;\n",
              "    }\n",
              "</style>\n",
              "<table border=\"1\" class=\"dataframe\">\n",
              "  <thead>\n",
              "    <tr style=\"text-align: right;\">\n",
              "      <th></th>\n",
              "      <th>neighbourhood_group</th>\n",
              "      <th>number_of_reviews</th>\n",
              "      <th>review_percentage</th>\n",
              "    </tr>\n",
              "  </thead>\n",
              "  <tbody>\n",
              "    <tr>\n",
              "      <th>0</th>\n",
              "      <td>Bronx</td>\n",
              "      <td>28371</td>\n",
              "      <td>2.493047</td>\n",
              "    </tr>\n",
              "    <tr>\n",
              "      <th>1</th>\n",
              "      <td>Brooklyn</td>\n",
              "      <td>486574</td>\n",
              "      <td>42.756754</td>\n",
              "    </tr>\n",
              "    <tr>\n",
              "      <th>2</th>\n",
              "      <td>Manhattan</td>\n",
              "      <td>454569</td>\n",
              "      <td>39.944376</td>\n",
              "    </tr>\n",
              "    <tr>\n",
              "      <th>3</th>\n",
              "      <td>Queens</td>\n",
              "      <td>156950</td>\n",
              "      <td>13.791679</td>\n",
              "    </tr>\n",
              "    <tr>\n",
              "      <th>4</th>\n",
              "      <td>Staten Island</td>\n",
              "      <td>11541</td>\n",
              "      <td>1.014143</td>\n",
              "    </tr>\n",
              "  </tbody>\n",
              "</table>\n",
              "</div>\n",
              "      <button class=\"colab-df-convert\" onclick=\"convertToInteractive('df-7dd267a7-6813-413a-ae60-6dbfdadeee57')\"\n",
              "              title=\"Convert this dataframe to an interactive table.\"\n",
              "              style=\"display:none;\">\n",
              "        \n",
              "  <svg xmlns=\"http://www.w3.org/2000/svg\" height=\"24px\"viewBox=\"0 0 24 24\"\n",
              "       width=\"24px\">\n",
              "    <path d=\"M0 0h24v24H0V0z\" fill=\"none\"/>\n",
              "    <path d=\"M18.56 5.44l.94 2.06.94-2.06 2.06-.94-2.06-.94-.94-2.06-.94 2.06-2.06.94zm-11 1L8.5 8.5l.94-2.06 2.06-.94-2.06-.94L8.5 2.5l-.94 2.06-2.06.94zm10 10l.94 2.06.94-2.06 2.06-.94-2.06-.94-.94-2.06-.94 2.06-2.06.94z\"/><path d=\"M17.41 7.96l-1.37-1.37c-.4-.4-.92-.59-1.43-.59-.52 0-1.04.2-1.43.59L10.3 9.45l-7.72 7.72c-.78.78-.78 2.05 0 2.83L4 21.41c.39.39.9.59 1.41.59.51 0 1.02-.2 1.41-.59l7.78-7.78 2.81-2.81c.8-.78.8-2.07 0-2.86zM5.41 20L4 18.59l7.72-7.72 1.47 1.35L5.41 20z\"/>\n",
              "  </svg>\n",
              "      </button>\n",
              "      \n",
              "  <style>\n",
              "    .colab-df-container {\n",
              "      display:flex;\n",
              "      flex-wrap:wrap;\n",
              "      gap: 12px;\n",
              "    }\n",
              "\n",
              "    .colab-df-convert {\n",
              "      background-color: #E8F0FE;\n",
              "      border: none;\n",
              "      border-radius: 50%;\n",
              "      cursor: pointer;\n",
              "      display: none;\n",
              "      fill: #1967D2;\n",
              "      height: 32px;\n",
              "      padding: 0 0 0 0;\n",
              "      width: 32px;\n",
              "    }\n",
              "\n",
              "    .colab-df-convert:hover {\n",
              "      background-color: #E2EBFA;\n",
              "      box-shadow: 0px 1px 2px rgba(60, 64, 67, 0.3), 0px 1px 3px 1px rgba(60, 64, 67, 0.15);\n",
              "      fill: #174EA6;\n",
              "    }\n",
              "\n",
              "    [theme=dark] .colab-df-convert {\n",
              "      background-color: #3B4455;\n",
              "      fill: #D2E3FC;\n",
              "    }\n",
              "\n",
              "    [theme=dark] .colab-df-convert:hover {\n",
              "      background-color: #434B5C;\n",
              "      box-shadow: 0px 1px 3px 1px rgba(0, 0, 0, 0.15);\n",
              "      filter: drop-shadow(0px 1px 2px rgba(0, 0, 0, 0.3));\n",
              "      fill: #FFFFFF;\n",
              "    }\n",
              "  </style>\n",
              "\n",
              "      <script>\n",
              "        const buttonEl =\n",
              "          document.querySelector('#df-7dd267a7-6813-413a-ae60-6dbfdadeee57 button.colab-df-convert');\n",
              "        buttonEl.style.display =\n",
              "          google.colab.kernel.accessAllowed ? 'block' : 'none';\n",
              "\n",
              "        async function convertToInteractive(key) {\n",
              "          const element = document.querySelector('#df-7dd267a7-6813-413a-ae60-6dbfdadeee57');\n",
              "          const dataTable =\n",
              "            await google.colab.kernel.invokeFunction('convertToInteractive',\n",
              "                                                     [key], {});\n",
              "          if (!dataTable) return;\n",
              "\n",
              "          const docLinkHtml = 'Like what you see? Visit the ' +\n",
              "            '<a target=\"_blank\" href=https://colab.research.google.com/notebooks/data_table.ipynb>data table notebook</a>'\n",
              "            + ' to learn more about interactive tables.';\n",
              "          element.innerHTML = '';\n",
              "          dataTable['output_type'] = 'display_data';\n",
              "          await google.colab.output.renderOutput(dataTable, element);\n",
              "          const docLink = document.createElement('div');\n",
              "          docLink.innerHTML = docLinkHtml;\n",
              "          element.appendChild(docLink);\n",
              "        }\n",
              "      </script>\n",
              "    </div>\n",
              "  </div>\n",
              "  "
            ]
          },
          "metadata": {},
          "execution_count": 9
        }
      ]
    },
    {
      "cell_type": "code",
      "source": [
        "explode = (0.05, 0.05, 0.05, 0.05, 0.05)\n",
        "number_of_reviews_df.groupby(['neighbourhood_group']).sum().plot(\n",
        "    kind='pie', y='number_of_reviews', autopct='%1.0f%%', startangle=60, explode=explode,figsize = (10,20)).set_title('Review percentage grouped by Neighbourhood group')\n",
        "plt.xlabel(\"Neighbourhood group\")\n",
        "plt.ylabel(\"Review percentage\")\n",
        "plt.show()"
      ],
      "metadata": {
        "colab": {
          "base_uri": "https://localhost:8080/",
          "height": 619
        },
        "outputId": "09083817-3593-4a41-c9aa-27bf30dc26e7",
        "id": "FWodSx_nAjdq"
      },
      "execution_count": null,
      "outputs": [
        {
          "output_type": "display_data",
          "data": {
            "text/plain": [
              "<Figure size 720x1440 with 1 Axes>"
            ],
            "image/png": "[encoded data removed]"
          },
          "metadata": {}
        }
      ]
    },
    {
      "cell_type": "code",
      "source": [
        "air_bnb_df['room_type'].value_counts().plot(kind='bar',color=['r','b','y']).set_title('Number of rooms available based on Room type')\n",
        "plt.xlabel(\"Room type\")\n",
        "plt.ylabel(\"Count\")\n",
        "plt.show()"
      ],
      "metadata": {
        "colab": {
          "base_uri": "https://localhost:8080/",
          "height": 366
        },
        "outputId": "6f130f49-4ef8-4a11-fdb5-45d24199f6f9",
        "id": "GCTIfi_XAjdr"
      },
      "execution_count": null,
      "outputs": [
        {
          "output_type": "display_data",
          "data": {
            "text/plain": [
              "<Figure size 432x288 with 1 Axes>"
            ],
            "image/png": "[encoded data removed]"
          },
          "metadata": {
            "needs_background": "light"
          }
        }
      ]
    },
    {
      "cell_type": "code",
      "source": [
        "air_bnb_df['neighbourhood_group'].value_counts().plot(kind='bar',color=['r','b','y','g','m']).set_title('Number of rooms available based on Neighbourhood group')\n",
        "plt.xlabel(\"Neighbourhood group\")\n",
        "plt.ylabel(\"Count\")\n",
        "plt.show()"
      ],
      "metadata": {
        "colab": {
          "base_uri": "https://localhost:8080/",
          "height": 351
        },
        "outputId": "cef28c52-382a-4c93-829d-b9f43f3124ff",
        "id": "9zgq3qoVAjds"
      },
      "execution_count": null,
      "outputs": [
        {
          "output_type": "display_data",
          "data": {
            "text/plain": [
              "<Figure size 432x288 with 1 Axes>"
            ],
            "image/png": "[encoded data removed]"
          },
          "metadata": {
            "needs_background": "light"
          }
        }
      ]
    },
    {
      "cell_type": "markdown",
      "source": [
        "####**Inference**\n",
        "1. Manhattan/ Brooklyn has the hightest percentage of reviews.\n",
        "2.Manhattan/ Brooklyn has the most number of rooms and Bronx/ Staten Island has least.\n",
        "2. There are more Entire home/apt. has more values and Shared room is least."
      ],
      "metadata": {
        "id": "tJNLmM3zFbXX"
      }
    },
    {
      "cell_type": "markdown",
      "source": [
        "### **Analysis of neighbourhood_group vs availability_365 to get a better understanding of availabitly of rooms**"
      ],
      "metadata": {
        "id": "IKh3PpNAfmha"
      }
    },
    {
      "cell_type": "code",
      "source": [
        "plt.figure(figsize=(10,10))\n",
        "ax = sns.boxplot(data=air_bnb_df, x='neighbourhood_group',y='availability_365',palette='plasma')\n",
        "plt.xlabel(\"Neighbourhood group\")\n",
        "plt.ylabel(\"Availability days\")\n",
        "plt.title(\"Availability days count range vs Neighbourhood group\")\n",
        "plt.show()"
      ],
      "metadata": {
        "colab": {
          "base_uri": "https://localhost:8080/",
          "height": 621
        },
        "outputId": "bac0d770-505e-4f03-c358-013b20d6f462",
        "id": "mvAL-sLyAjdu"
      },
      "execution_count": null,
      "outputs": [
        {
          "output_type": "display_data",
          "data": {
            "text/plain": [
              "<Figure size 720x720 with 1 Axes>"
            ],
            "image/png": "[encoded data removed]"
          },
          "metadata": {
            "needs_background": "light"
          }
        }
      ]
    },
    {
      "cell_type": "markdown",
      "source": [
        "**Inference**\n",
        "\n",
        "From the box plot ablove we can conclude that Brooklyn is least available and Staten Island is most available throught the year."
      ],
      "metadata": {
        "id": "MTlngPQtteQo"
      }
    },
    {
      "cell_type": "code",
      "source": [
        "# Finding of Null values\n",
        "df.isnull().sum()"
      ],
      "metadata": {
        "colab": {
          "base_uri": "https://localhost:8080/",
          "height": 171
        },
        "id": "Xr3zW4D9hSYa",
        "outputId": "10e426ba-fcf5-4217-be60-493370a3bcef"
      },
      "execution_count": null,
      "outputs": [
        {
          "output_type": "error",
          "ename": "NameError",
          "evalue": "ignored",
          "traceback": [
            "\u001b[0;31m---------------------------------------------------------------------------\u001b[0m",
            "\u001b[0;31mNameError\u001b[0m                                 Traceback (most recent call last)",
            "\u001b[0;32m<ipython-input-1-629914d6d1c7>\u001b[0m in \u001b[0;36m<module>\u001b[0;34m\u001b[0m\n\u001b[0;32m----> 1\u001b[0;31m \u001b[0mdf\u001b[0m\u001b[0;34m.\u001b[0m\u001b[0misnull\u001b[0m\u001b[0;34m(\u001b[0m\u001b[0;34m)\u001b[0m\u001b[0;34m.\u001b[0m\u001b[0msum\u001b[0m\u001b[0;34m(\u001b[0m\u001b[0;34m)\u001b[0m\u001b[0;34m\u001b[0m\u001b[0;34m\u001b[0m\u001b[0m\n\u001b[0m",
            "\u001b[0;31mNameError\u001b[0m: name 'df' is not defined"
          ]
        }
      ]
    },
    {
      "cell_type": "markdown",
      "source": [
        "**Inference**\n",
        "\n",
        "  From the isnull() merthod we can know that there are some null values from the name and host_name. So let us drop the rows which is contain NaN values."
      ],
      "metadata": {
        "id": "i9XsqmXPiR7E"
      }
    },
    {
      "cell_type": "code",
      "source": [
        "# Droping the rows which is having NaN values in name and host_name\n",
        "df.dropna(axis=0 , subset=['name','host_name'], inplace=True)"
      ],
      "metadata": {
        "id": "4VBc4ELahSrj"
      },
      "execution_count": null,
      "outputs": []
    },
    {
      "cell_type": "code",
      "source": [
        "df.isnull().sum()"
      ],
      "metadata": {
        "id": "h-O1KFGczAA3"
      },
      "execution_count": null,
      "outputs": []
    },
    {
      "cell_type": "markdown",
      "source": [
        "Now we have rows which is having non null values in the all columns except last_review and reviews_per_month. "
      ],
      "metadata": {
        "id": "j2VWbz1Oy0MD"
      }
    },
    {
      "cell_type": "code",
      "source": [
        "# Finding Correlation between each Columns\n",
        "Correlation = df.corr()\n",
        "plt.figure(figsize=(11,8))\n",
        "plt.title(\"Correlation Between Columns\")\n",
        "sns.heatmap(Correlation, annot=True)\n",
        "plt.show()"
      ],
      "metadata": {
        "id": "eolVB_iESPEi"
      },
      "execution_count": null,
      "outputs": []
    },
    {
      "cell_type": "markdown",
      "source": [
        "**Inference**\n",
        "\n",
        "There is no significant corelation between any other columns except Id with host_id and number_of_reviews with reviws_per_month."
      ],
      "metadata": {
        "id": "SNjitLpCS50J"
      }
    },
    {
      "cell_type": "markdown",
      "source": [
        "Now we going to check the duplicate "
      ],
      "metadata": {
        "id": "IUDWkfmPDSWJ"
      }
    },
    {
      "cell_type": "code",
      "source": [
        "# Code to check duplicate rows\n",
        "x=pd.DataFrame(index=['Duplicate rows'], columns=['number of column'])\n",
        "x['number of column']=df.duplicated().sum()\n",
        "x"
      ],
      "metadata": {
        "id": "Kc45CeYdDRvR",
        "colab": {
          "base_uri": "https://localhost:8080/",
          "height": 81
        },
        "outputId": "694371e6-6a37-4fc3-e383-6cfb37e4a477"
      },
      "execution_count": null,
      "outputs": [
        {
          "output_type": "execute_result",
          "data": {
            "text/plain": [
              "                number of column\n",
              "Duplicate rows                 0"
            ],
            "text/html": [
              "\n",
              "  <div id=\"df-953877db-3dab-49d0-84a4-57826474ff64\">\n",
              "    <div class=\"colab-df-container\">\n",
              "      <div>\n",
              "<style scoped>\n",
              "    .dataframe tbody tr th:only-of-type {\n",
              "        vertical-align: middle;\n",
              "    }\n",
              "\n",
              "    .dataframe tbody tr th {\n",
              "        vertical-align: top;\n",
              "    }\n",
              "\n",
              "    .dataframe thead th {\n",
              "        text-align: right;\n",
              "    }\n",
              "</style>\n",
              "<table border=\"1\" class=\"dataframe\">\n",
              "  <thead>\n",
              "    <tr style=\"text-align: right;\">\n",
              "      <th></th>\n",
              "      <th>number of column</th>\n",
              "    </tr>\n",
              "  </thead>\n",
              "  <tbody>\n",
              "    <tr>\n",
              "      <th>Duplicate rows</th>\n",
              "      <td>0</td>\n",
              "    </tr>\n",
              "  </tbody>\n",
              "</table>\n",
              "</div>\n",
              "      <button class=\"colab-df-convert\" onclick=\"convertToInteractive('df-953877db-3dab-49d0-84a4-57826474ff64')\"\n",
              "              title=\"Convert this dataframe to an interactive table.\"\n",
              "              style=\"display:none;\">\n",
              "        \n",
              "  <svg xmlns=\"http://www.w3.org/2000/svg\" height=\"24px\"viewBox=\"0 0 24 24\"\n",
              "       width=\"24px\">\n",
              "    <path d=\"M0 0h24v24H0V0z\" fill=\"none\"/>\n",
              "    <path d=\"M18.56 5.44l.94 2.06.94-2.06 2.06-.94-2.06-.94-.94-2.06-.94 2.06-2.06.94zm-11 1L8.5 8.5l.94-2.06 2.06-.94-2.06-.94L8.5 2.5l-.94 2.06-2.06.94zm10 10l.94 2.06.94-2.06 2.06-.94-2.06-.94-.94-2.06-.94 2.06-2.06.94z\"/><path d=\"M17.41 7.96l-1.37-1.37c-.4-.4-.92-.59-1.43-.59-.52 0-1.04.2-1.43.59L10.3 9.45l-7.72 7.72c-.78.78-.78 2.05 0 2.83L4 21.41c.39.39.9.59 1.41.59.51 0 1.02-.2 1.41-.59l7.78-7.78 2.81-2.81c.8-.78.8-2.07 0-2.86zM5.41 20L4 18.59l7.72-7.72 1.47 1.35L5.41 20z\"/>\n",
              "  </svg>\n",
              "      </button>\n",
              "      \n",
              "  <style>\n",
              "    .colab-df-container {\n",
              "      display:flex;\n",
              "      flex-wrap:wrap;\n",
              "      gap: 12px;\n",
              "    }\n",
              "\n",
              "    .colab-df-convert {\n",
              "      background-color: #E8F0FE;\n",
              "      border: none;\n",
              "      border-radius: 50%;\n",
              "      cursor: pointer;\n",
              "      display: none;\n",
              "      fill: #1967D2;\n",
              "      height: 32px;\n",
              "      padding: 0 0 0 0;\n",
              "      width: 32px;\n",
              "    }\n",
              "\n",
              "    .colab-df-convert:hover {\n",
              "      background-color: #E2EBFA;\n",
              "      box-shadow: 0px 1px 2px rgba(60, 64, 67, 0.3), 0px 1px 3px 1px rgba(60, 64, 67, 0.15);\n",
              "      fill: #174EA6;\n",
              "    }\n",
              "\n",
              "    [theme=dark] .colab-df-convert {\n",
              "      background-color: #3B4455;\n",
              "      fill: #D2E3FC;\n",
              "    }\n",
              "\n",
              "    [theme=dark] .colab-df-convert:hover {\n",
              "      background-color: #434B5C;\n",
              "      box-shadow: 0px 1px 3px 1px rgba(0, 0, 0, 0.15);\n",
              "      filter: drop-shadow(0px 1px 2px rgba(0, 0, 0, 0.3));\n",
              "      fill: #FFFFFF;\n",
              "    }\n",
              "  </style>\n",
              "\n",
              "      <script>\n",
              "        const buttonEl =\n",
              "          document.querySelector('#df-953877db-3dab-49d0-84a4-57826474ff64 button.colab-df-convert');\n",
              "        buttonEl.style.display =\n",
              "          google.colab.kernel.accessAllowed ? 'block' : 'none';\n",
              "\n",
              "        async function convertToInteractive(key) {\n",
              "          const element = document.querySelector('#df-953877db-3dab-49d0-84a4-57826474ff64');\n",
              "          const dataTable =\n",
              "            await google.colab.kernel.invokeFunction('convertToInteractive',\n",
              "                                                     [key], {});\n",
              "          if (!dataTable) return;\n",
              "\n",
              "          const docLinkHtml = 'Like what you see? Visit the ' +\n",
              "            '<a target=\"_blank\" href=https://colab.research.google.com/notebooks/data_table.ipynb>data table notebook</a>'\n",
              "            + ' to learn more about interactive tables.';\n",
              "          element.innerHTML = '';\n",
              "          dataTable['output_type'] = 'display_data';\n",
              "          await google.colab.output.renderOutput(dataTable, element);\n",
              "          const docLink = document.createElement('div');\n",
              "          docLink.innerHTML = docLinkHtml;\n",
              "          element.appendChild(docLink);\n",
              "        }\n",
              "      </script>\n",
              "    </div>\n",
              "  </div>\n",
              "  "
            ]
          },
          "metadata": {},
          "execution_count": 13
        }
      ]
    },
    {
      "cell_type": "markdown",
      "source": [
        "There is no duplicated rows so we move into the analysis part"
      ],
      "metadata": {
        "id": "ZgjMqO2Sy-iZ"
      }
    },
    {
      "cell_type": "markdown",
      "source": [
        "#Analysis"
      ],
      "metadata": {
        "id": "DmeK0_C0snf4"
      }
    },
    {
      "cell_type": "markdown",
      "source": [
        "#Top 2 guys who is having more number of rooms"
      ],
      "metadata": {
        "id": "hhockEeBRpEa"
      }
    },
    {
      "cell_type": "markdown",
      "source": [
        "Here the host_id is is the unique one. so we will take this as a subset value and We will take top 2 peaoples who is having more number of rooms for our analysis"
      ],
      "metadata": {
        "id": "PYE5RjFnaaqJ"
      }
    },
    {
      "cell_type": "code",
      "source": [
        "# Finding Top 2 Peoples\n",
        "room_counts=df.value_counts(subset='host_id').reset_index()\n",
        "room_counts.rename(columns={0:'room_count'} , inplace=True)\n",
        "room_counts.head(2)"
      ],
      "metadata": {
        "id": "xi46_ql5VjbP",
        "colab": {
          "base_uri": "https://localhost:8080/",
          "height": 112
        },
        "outputId": "7f2244f0-984d-4ff4-c766-22ac06b6a5e7"
      },
      "execution_count": null,
      "outputs": [
        {
          "output_type": "execute_result",
          "data": {
            "text/plain": [
              "     host_id  room_count\n",
              "0  219517861         327\n",
              "1  107434423         232"
            ],
            "text/html": [
              "\n",
              "  <div id=\"df-774d1200-c006-4947-9625-36ab37ffc336\">\n",
              "    <div class=\"colab-df-container\">\n",
              "      <div>\n",
              "<style scoped>\n",
              "    .dataframe tbody tr th:only-of-type {\n",
              "        vertical-align: middle;\n",
              "    }\n",
              "\n",
              "    .dataframe tbody tr th {\n",
              "        vertical-align: top;\n",
              "    }\n",
              "\n",
              "    .dataframe thead th {\n",
              "        text-align: right;\n",
              "    }\n",
              "</style>\n",
              "<table border=\"1\" class=\"dataframe\">\n",
              "  <thead>\n",
              "    <tr style=\"text-align: right;\">\n",
              "      <th></th>\n",
              "      <th>host_id</th>\n",
              "      <th>room_count</th>\n",
              "    </tr>\n",
              "  </thead>\n",
              "  <tbody>\n",
              "    <tr>\n",
              "      <th>0</th>\n",
              "      <td>219517861</td>\n",
              "      <td>327</td>\n",
              "    </tr>\n",
              "    <tr>\n",
              "      <th>1</th>\n",
              "      <td>107434423</td>\n",
              "      <td>232</td>\n",
              "    </tr>\n",
              "  </tbody>\n",
              "</table>\n",
              "</div>\n",
              "      <button class=\"colab-df-convert\" onclick=\"convertToInteractive('df-774d1200-c006-4947-9625-36ab37ffc336')\"\n",
              "              title=\"Convert this dataframe to an interactive table.\"\n",
              "              style=\"display:none;\">\n",
              "        \n",
              "  <svg xmlns=\"http://www.w3.org/2000/svg\" height=\"24px\"viewBox=\"0 0 24 24\"\n",
              "       width=\"24px\">\n",
              "    <path d=\"M0 0h24v24H0V0z\" fill=\"none\"/>\n",
              "    <path d=\"M18.56 5.44l.94 2.06.94-2.06 2.06-.94-2.06-.94-.94-2.06-.94 2.06-2.06.94zm-11 1L8.5 8.5l.94-2.06 2.06-.94-2.06-.94L8.5 2.5l-.94 2.06-2.06.94zm10 10l.94 2.06.94-2.06 2.06-.94-2.06-.94-.94-2.06-.94 2.06-2.06.94z\"/><path d=\"M17.41 7.96l-1.37-1.37c-.4-.4-.92-.59-1.43-.59-.52 0-1.04.2-1.43.59L10.3 9.45l-7.72 7.72c-.78.78-.78 2.05 0 2.83L4 21.41c.39.39.9.59 1.41.59.51 0 1.02-.2 1.41-.59l7.78-7.78 2.81-2.81c.8-.78.8-2.07 0-2.86zM5.41 20L4 18.59l7.72-7.72 1.47 1.35L5.41 20z\"/>\n",
              "  </svg>\n",
              "      </button>\n",
              "      \n",
              "  <style>\n",
              "    .colab-df-container {\n",
              "      display:flex;\n",
              "      flex-wrap:wrap;\n",
              "      gap: 12px;\n",
              "    }\n",
              "\n",
              "    .colab-df-convert {\n",
              "      background-color: #E8F0FE;\n",
              "      border: none;\n",
              "      border-radius: 50%;\n",
              "      cursor: pointer;\n",
              "      display: none;\n",
              "      fill: #1967D2;\n",
              "      height: 32px;\n",
              "      padding: 0 0 0 0;\n",
              "      width: 32px;\n",
              "    }\n",
              "\n",
              "    .colab-df-convert:hover {\n",
              "      background-color: #E2EBFA;\n",
              "      box-shadow: 0px 1px 2px rgba(60, 64, 67, 0.3), 0px 1px 3px 1px rgba(60, 64, 67, 0.15);\n",
              "      fill: #174EA6;\n",
              "    }\n",
              "\n",
              "    [theme=dark] .colab-df-convert {\n",
              "      background-color: #3B4455;\n",
              "      fill: #D2E3FC;\n",
              "    }\n",
              "\n",
              "    [theme=dark] .colab-df-convert:hover {\n",
              "      background-color: #434B5C;\n",
              "      box-shadow: 0px 1px 3px 1px rgba(0, 0, 0, 0.15);\n",
              "      filter: drop-shadow(0px 1px 2px rgba(0, 0, 0, 0.3));\n",
              "      fill: #FFFFFF;\n",
              "    }\n",
              "  </style>\n",
              "\n",
              "      <script>\n",
              "        const buttonEl =\n",
              "          document.querySelector('#df-774d1200-c006-4947-9625-36ab37ffc336 button.colab-df-convert');\n",
              "        buttonEl.style.display =\n",
              "          google.colab.kernel.accessAllowed ? 'block' : 'none';\n",
              "\n",
              "        async function convertToInteractive(key) {\n",
              "          const element = document.querySelector('#df-774d1200-c006-4947-9625-36ab37ffc336');\n",
              "          const dataTable =\n",
              "            await google.colab.kernel.invokeFunction('convertToInteractive',\n",
              "                                                     [key], {});\n",
              "          if (!dataTable) return;\n",
              "\n",
              "          const docLinkHtml = 'Like what you see? Visit the ' +\n",
              "            '<a target=\"_blank\" href=https://colab.research.google.com/notebooks/data_table.ipynb>data table notebook</a>'\n",
              "            + ' to learn more about interactive tables.';\n",
              "          element.innerHTML = '';\n",
              "          dataTable['output_type'] = 'display_data';\n",
              "          await google.colab.output.renderOutput(dataTable, element);\n",
              "          const docLink = document.createElement('div');\n",
              "          docLink.innerHTML = docLinkHtml;\n",
              "          element.appendChild(docLink);\n",
              "        }\n",
              "      </script>\n",
              "    </div>\n",
              "  </div>\n",
              "  "
            ]
          },
          "metadata": {},
          "execution_count": 14
        }
      ]
    },
    {
      "cell_type": "markdown",
      "source": [
        "**Inference**\n",
        "\n",
        "The top 2 peoples are host_id **'219517861'** and **'107434423'** . The both might be doing this as a professionally. "
      ],
      "metadata": {
        "id": "LlEs-hwNoBqN"
      }
    },
    {
      "cell_type": "markdown",
      "source": [
        "###**Lets analyse the host id of '219517861' which is No_1**"
      ],
      "metadata": {
        "id": "pPtizluaatVX"
      }
    },
    {
      "cell_type": "code",
      "source": [
        "# Filter the rows with the use of host_id.\n",
        "No_1=df[df['host_id']==219517861]\n",
        "No_1"
      ],
      "metadata": {
        "id": "iqxuf1QTVjWP"
      },
      "execution_count": null,
      "outputs": []
    },
    {
      "cell_type": "markdown",
      "source": [
        "**Inference**\n",
        "\n",
        "From the above dataframe we can see that the host id **219517861**  having 327 rooms and his name is **Sonder (NYC)**."
      ],
      "metadata": {
        "id": "ZmhJvn0do3Wa"
      }
    },
    {
      "cell_type": "markdown",
      "source": [
        "____________________________________________________________"
      ],
      "metadata": {
        "id": "TU861nlAv55s"
      }
    },
    {
      "cell_type": "markdown",
      "source": [
        "We will use longitude and latitude to show the locations of the each appartments with respect to neighbourhood and neighbourhood_group in scatterplot."
      ],
      "metadata": {
        "id": "7LJ_HQx0cGSY"
      }
    },
    {
      "cell_type": "code",
      "source": [
        "# Finding Sonder (NYC) rooms with respective to the neighbourhood_group\n",
        "plt.figure(figsize=(9,6))\n",
        "sns.scatterplot(x=No_1.longitude,y=No_1.latitude,hue=No_1.neighbourhood_group)"
      ],
      "metadata": {
        "colab": {
          "base_uri": "https://localhost:8080/",
          "height": 406
        },
        "id": "O7NGUyporxs2",
        "outputId": "21fa1e52-370f-4b66-c3c3-b434653863d3"
      },
      "execution_count": null,
      "outputs": [
        {
          "output_type": "execute_result",
          "data": {
            "text/plain": [
              "<matplotlib.axes._subplots.AxesSubplot at 0x7fde7e670dd0>"
            ]
          },
          "metadata": {},
          "execution_count": 16
        },
        {
          "output_type": "display_data",
          "data": {
            "text/plain": [
              "<Figure size 648x432 with 1 Axes>"
            ],
            "image/png": "[encoded data removed]"
          },
          "metadata": {
            "needs_background": "light"
          }
        }
      ]
    },
    {
      "cell_type": "code",
      "source": [
        "# Finding Sonder (NYC) rooms with respective to the neighbourhood\n",
        "plt.figure(figsize=(9,6))\n",
        "sns.scatterplot(x=No_1.longitude,y=No_1.latitude,hue=No_1.neighbourhood)"
      ],
      "metadata": {
        "id": "JrEV-iCHVjT3",
        "colab": {
          "base_uri": "https://localhost:8080/",
          "height": 406
        },
        "outputId": "7b0ac121-6536-4400-dd5d-9c9bbe72ca82"
      },
      "execution_count": null,
      "outputs": [
        {
          "output_type": "execute_result",
          "data": {
            "text/plain": [
              "<matplotlib.axes._subplots.AxesSubplot at 0x7fde7d464a50>"
            ]
          },
          "metadata": {},
          "execution_count": 17
        },
        {
          "output_type": "display_data",
          "data": {
            "text/plain": [
              "<Figure size 648x432 with 1 Axes>"
            ],
            "image/png": "[encoded data removed]"
          },
          "metadata": {
            "needs_background": "light"
          }
        }
      ]
    },
    {
      "cell_type": "markdown",
      "source": [
        "**Inference**\n",
        "\n",
        "The Sonder (NYC) having the rooms only at Manhattan neighbourhood group. In manhatten he has rooms in seven different type of neighbourhoods"
      ],
      "metadata": {
        "id": "ht8lJQX2pVAP"
      }
    },
    {
      "cell_type": "markdown",
      "source": [
        "###Apartment radius for the ***Sonder (NYC)***"
      ],
      "metadata": {
        "id": "s8pWxPZVjvMg"
      }
    },
    {
      "cell_type": "markdown",
      "source": [
        "In order to find the distance range for sonder NYC we going to add both longitude and latitude to find the minimum and maximum distance."
      ],
      "metadata": {
        "id": "QIcfBvsJ1Os0"
      }
    },
    {
      "cell_type": "code",
      "source": [
        "# Finding minimum and maximum geographic coordinate from the scatter plot\n",
        "No_1['new']=No_1['longitude']+ No_1['latitude']\n",
        "Distance = No_1.sort_values(by='new').reset_index()"
      ],
      "metadata": {
        "id": "pCD_umu6VjRO",
        "colab": {
          "base_uri": "https://localhost:8080/"
        },
        "outputId": "cb427fa4-9e01-41db-e30e-e33308547496"
      },
      "execution_count": null,
      "outputs": [
        {
          "output_type": "stream",
          "name": "stderr",
          "text": [
            "/usr/local/lib/python3.7/dist-packages/ipykernel_launcher.py:1: SettingWithCopyWarning: \n",
            "A value is trying to be set on a copy of a slice from a DataFrame.\n",
            "Try using .loc[row_indexer,col_indexer] = value instead\n",
            "\n",
            "See the caveats in the documentation: https://pandas.pydata.org/pandas-docs/stable/user_guide/indexing.html#returning-a-view-versus-a-copy\n",
            "  \"\"\"Entry point for launching an IPython kernel.\n"
          ]
        }
      ]
    },
    {
      "cell_type": "code",
      "source": [
        "# Indexing first and last geographic coordinate\n",
        "latitude1=Distance['latitude'][0]\n",
        "longitude1=Distance['longitude'][0]\n",
        "latitude2=Distance['latitude'][326]\n",
        "longitude2=Distance['longitude'][326]"
      ],
      "metadata": {
        "id": "IfaOXbbQkX6F"
      },
      "execution_count": null,
      "outputs": []
    },
    {
      "cell_type": "code",
      "source": [
        "# Code to find the distance from the first and last location of the Sonder (NYC)\n",
        "location1=(latitude1,longitude1)\n",
        "location2=(latitude2,longitude2)\n",
        "hs.haversine(location1,location2)/2"
      ],
      "metadata": {
        "colab": {
          "base_uri": "https://localhost:8080/"
        },
        "id": "Y4O1JXRmk4Xv",
        "outputId": "4441d81e-7a2a-4385-f35e-5c1c176dc3df"
      },
      "execution_count": null,
      "outputs": [
        {
          "output_type": "execute_result",
          "data": {
            "text/plain": [
              "3.8607868957777223"
            ]
          },
          "metadata": {},
          "execution_count": 22
        }
      ]
    },
    {
      "cell_type": "markdown",
      "source": [
        "**Inference**\n",
        "  \n",
        "  All the rooms of the Sonder (NYC) are available within the radius of 3.8kms."
      ],
      "metadata": {
        "id": "FHH83MlTmI3w"
      }
    },
    {
      "cell_type": "markdown",
      "source": [
        "____________________________________________________________________"
      ],
      "metadata": {
        "id": "Arkc9-yG7kG6"
      }
    },
    {
      "cell_type": "markdown",
      "source": [
        "###Lets analyse the host id of '107434423' which is No_2"
      ],
      "metadata": {
        "id": "iRne92pkugYO"
      }
    },
    {
      "cell_type": "code",
      "source": [
        "# Filter the rows with the use of host_id.\n",
        "No_2=df[df['host_id']==107434423]\n",
        "No_2"
      ],
      "metadata": {
        "id": "DYLEUcjtVjMH",
        "colab": {
          "base_uri": "https://localhost:8080/",
          "height": 1000
        },
        "outputId": "5b13e157-1cf1-401f-e03c-27bd951c2950"
      },
      "execution_count": null,
      "outputs": [
        {
          "output_type": "execute_result",
          "data": {
            "text/plain": [
              "             id                                               name    host_id  \\\n",
              "26137  20845031  Homey Midtown East 1BR w/ Gym, Doorman, near t...  107434423   \n",
              "29128  22370388  Calming FiDi 1BR w/ lux Gym, Speakeasy + Doorm...  107434423   \n",
              "30158  23264421  Mod Midtown East 1BR w/ Gym, walk to Grand Cen...  107434423   \n",
              "30428  23538486  Posh Park Avenue 1BR w/ Gym, Doorman in Midtow...  107434423   \n",
              "31506  24535218  Luxury Tribeca 1BR w/ Gym, Doorman + Roof deck...  107434423   \n",
              "...         ...                                                ...        ...   \n",
              "48723  36404684  Smart Nolita 1BR w/ W/D near famous cafes by B...  107434423   \n",
              "48724  36404784  Dapper Hell's Kitchen 2BR w/  Gym + W/D + Door...  107434423   \n",
              "48725  36404815  Trendy Hell's Kitchen 1BR w/ Gym + W/D + Doorm...  107434423   \n",
              "48726  36404936  Beautiful Williamsburg 2BR w/ Skyline views + ...  107434423   \n",
              "48727  36404972  Hip East Village 1BR w/ Gym, W/D, Doorman, nea...  107434423   \n",
              "\n",
              "        host_name neighbourhood_group       neighbourhood  latitude  \\\n",
              "26137  Blueground           Manhattan            Kips Bay  40.74510   \n",
              "29128  Blueground           Manhattan  Financial District  40.70637   \n",
              "30158  Blueground           Manhattan         Murray Hill  40.74900   \n",
              "30428  Blueground           Manhattan         Murray Hill  40.74891   \n",
              "31506  Blueground           Manhattan             Tribeca  40.71433   \n",
              "...           ...                 ...                 ...       ...   \n",
              "48723  Blueground           Manhattan              Nolita  40.72283   \n",
              "48724  Blueground           Manhattan      Hell's Kitchen  40.76082   \n",
              "48725  Blueground           Manhattan      Hell's Kitchen  40.76083   \n",
              "48726  Blueground            Brooklyn        Williamsburg  40.71493   \n",
              "48727  Blueground           Manhattan        East Village  40.73206   \n",
              "\n",
              "       longitude        room_type  \n",
              "26137  -73.97915  Entire home/apt  \n",
              "29128  -74.00941  Entire home/apt  \n",
              "30158  -73.97961  Entire home/apt  \n",
              "30428  -73.97887  Entire home/apt  \n",
              "31506  -74.01073  Entire home/apt  \n",
              "...          ...              ...  \n",
              "48723  -73.99472  Entire home/apt  \n",
              "48724  -73.99709  Entire home/apt  \n",
              "48725  -73.99727  Entire home/apt  \n",
              "48726  -73.96365  Entire home/apt  \n",
              "48727  -73.98776  Entire home/apt  \n",
              "\n",
              "[232 rows x 9 columns]"
            ],
            "text/html": [
              "\n",
              "  <div id=\"df-17f6880b-c26e-42b9-bf6e-06583389d159\">\n",
              "    <div class=\"colab-df-container\">\n",
              "      <div>\n",
              "<style scoped>\n",
              "    .dataframe tbody tr th:only-of-type {\n",
              "        vertical-align: middle;\n",
              "    }\n",
              "\n",
              "    .dataframe tbody tr th {\n",
              "        vertical-align: top;\n",
              "    }\n",
              "\n",
              "    .dataframe thead th {\n",
              "        text-align: right;\n",
              "    }\n",
              "</style>\n",
              "<table border=\"1\" class=\"dataframe\">\n",
              "  <thead>\n",
              "    <tr style=\"text-align: right;\">\n",
              "      <th></th>\n",
              "      <th>id</th>\n",
              "      <th>name</th>\n",
              "      <th>host_id</th>\n",
              "      <th>host_name</th>\n",
              "      <th>neighbourhood_group</th>\n",
              "      <th>neighbourhood</th>\n",
              "      <th>latitude</th>\n",
              "      <th>longitude</th>\n",
              "      <th>room_type</th>\n",
              "    </tr>\n",
              "  </thead>\n",
              "  <tbody>\n",
              "    <tr>\n",
              "      <th>26137</th>\n",
              "      <td>20845031</td>\n",
              "      <td>Homey Midtown East 1BR w/ Gym, Doorman, near t...</td>\n",
              "      <td>107434423</td>\n",
              "      <td>Blueground</td>\n",
              "      <td>Manhattan</td>\n",
              "      <td>Kips Bay</td>\n",
              "      <td>40.74510</td>\n",
              "      <td>-73.97915</td>\n",
              "      <td>Entire home/apt</td>\n",
              "    </tr>\n",
              "    <tr>\n",
              "      <th>29128</th>\n",
              "      <td>22370388</td>\n",
              "      <td>Calming FiDi 1BR w/ lux Gym, Speakeasy + Doorm...</td>\n",
              "      <td>107434423</td>\n",
              "      <td>Blueground</td>\n",
              "      <td>Manhattan</td>\n",
              "      <td>Financial District</td>\n",
              "      <td>40.70637</td>\n",
              "      <td>-74.00941</td>\n",
              "      <td>Entire home/apt</td>\n",
              "    </tr>\n",
              "    <tr>\n",
              "      <th>30158</th>\n",
              "      <td>23264421</td>\n",
              "      <td>Mod Midtown East 1BR w/ Gym, walk to Grand Cen...</td>\n",
              "      <td>107434423</td>\n",
              "      <td>Blueground</td>\n",
              "      <td>Manhattan</td>\n",
              "      <td>Murray Hill</td>\n",
              "      <td>40.74900</td>\n",
              "      <td>-73.97961</td>\n",
              "      <td>Entire home/apt</td>\n",
              "    </tr>\n",
              "    <tr>\n",
              "      <th>30428</th>\n",
              "      <td>23538486</td>\n",
              "      <td>Posh Park Avenue 1BR w/ Gym, Doorman in Midtow...</td>\n",
              "      <td>107434423</td>\n",
              "      <td>Blueground</td>\n",
              "      <td>Manhattan</td>\n",
              "      <td>Murray Hill</td>\n",
              "      <td>40.74891</td>\n",
              "      <td>-73.97887</td>\n",
              "      <td>Entire home/apt</td>\n",
              "    </tr>\n",
              "    <tr>\n",
              "      <th>31506</th>\n",
              "      <td>24535218</td>\n",
              "      <td>Luxury Tribeca 1BR w/ Gym, Doorman + Roof deck...</td>\n",
              "      <td>107434423</td>\n",
              "      <td>Blueground</td>\n",
              "      <td>Manhattan</td>\n",
              "      <td>Tribeca</td>\n",
              "      <td>40.71433</td>\n",
              "      <td>-74.01073</td>\n",
              "      <td>Entire home/apt</td>\n",
              "    </tr>\n",
              "    <tr>\n",
              "      <th>...</th>\n",
              "      <td>...</td>\n",
              "      <td>...</td>\n",
              "      <td>...</td>\n",
              "      <td>...</td>\n",
              "      <td>...</td>\n",
              "      <td>...</td>\n",
              "      <td>...</td>\n",
              "      <td>...</td>\n",
              "      <td>...</td>\n",
              "    </tr>\n",
              "    <tr>\n",
              "      <th>48723</th>\n",
              "      <td>36404684</td>\n",
              "      <td>Smart Nolita 1BR w/ W/D near famous cafes by B...</td>\n",
              "      <td>107434423</td>\n",
              "      <td>Blueground</td>\n",
              "      <td>Manhattan</td>\n",
              "      <td>Nolita</td>\n",
              "      <td>40.72283</td>\n",
              "      <td>-73.99472</td>\n",
              "      <td>Entire home/apt</td>\n",
              "    </tr>\n",
              "    <tr>\n",
              "      <th>48724</th>\n",
              "      <td>36404784</td>\n",
              "      <td>Dapper Hell's Kitchen 2BR w/  Gym + W/D + Door...</td>\n",
              "      <td>107434423</td>\n",
              "      <td>Blueground</td>\n",
              "      <td>Manhattan</td>\n",
              "      <td>Hell's Kitchen</td>\n",
              "      <td>40.76082</td>\n",
              "      <td>-73.99709</td>\n",
              "      <td>Entire home/apt</td>\n",
              "    </tr>\n",
              "    <tr>\n",
              "      <th>48725</th>\n",
              "      <td>36404815</td>\n",
              "      <td>Trendy Hell's Kitchen 1BR w/ Gym + W/D + Doorm...</td>\n",
              "      <td>107434423</td>\n",
              "      <td>Blueground</td>\n",
              "      <td>Manhattan</td>\n",
              "      <td>Hell's Kitchen</td>\n",
              "      <td>40.76083</td>\n",
              "      <td>-73.99727</td>\n",
              "      <td>Entire home/apt</td>\n",
              "    </tr>\n",
              "    <tr>\n",
              "      <th>48726</th>\n",
              "      <td>36404936</td>\n",
              "      <td>Beautiful Williamsburg 2BR w/ Skyline views + ...</td>\n",
              "      <td>107434423</td>\n",
              "      <td>Blueground</td>\n",
              "      <td>Brooklyn</td>\n",
              "      <td>Williamsburg</td>\n",
              "      <td>40.71493</td>\n",
              "      <td>-73.96365</td>\n",
              "      <td>Entire home/apt</td>\n",
              "    </tr>\n",
              "    <tr>\n",
              "      <th>48727</th>\n",
              "      <td>36404972</td>\n",
              "      <td>Hip East Village 1BR w/ Gym, W/D, Doorman, nea...</td>\n",
              "      <td>107434423</td>\n",
              "      <td>Blueground</td>\n",
              "      <td>Manhattan</td>\n",
              "      <td>East Village</td>\n",
              "      <td>40.73206</td>\n",
              "      <td>-73.98776</td>\n",
              "      <td>Entire home/apt</td>\n",
              "    </tr>\n",
              "  </tbody>\n",
              "</table>\n",
              "<p>232 rows × 9 columns</p>\n",
              "</div>\n",
              "      <button class=\"colab-df-convert\" onclick=\"convertToInteractive('df-17f6880b-c26e-42b9-bf6e-06583389d159')\"\n",
              "              title=\"Convert this dataframe to an interactive table.\"\n",
              "              style=\"display:none;\">\n",
              "        \n",
              "  <svg xmlns=\"http://www.w3.org/2000/svg\" height=\"24px\"viewBox=\"0 0 24 24\"\n",
              "       width=\"24px\">\n",
              "    <path d=\"M0 0h24v24H0V0z\" fill=\"none\"/>\n",
              "    <path d=\"M18.56 5.44l.94 2.06.94-2.06 2.06-.94-2.06-.94-.94-2.06-.94 2.06-2.06.94zm-11 1L8.5 8.5l.94-2.06 2.06-.94-2.06-.94L8.5 2.5l-.94 2.06-2.06.94zm10 10l.94 2.06.94-2.06 2.06-.94-2.06-.94-.94-2.06-.94 2.06-2.06.94z\"/><path d=\"M17.41 7.96l-1.37-1.37c-.4-.4-.92-.59-1.43-.59-.52 0-1.04.2-1.43.59L10.3 9.45l-7.72 7.72c-.78.78-.78 2.05 0 2.83L4 21.41c.39.39.9.59 1.41.59.51 0 1.02-.2 1.41-.59l7.78-7.78 2.81-2.81c.8-.78.8-2.07 0-2.86zM5.41 20L4 18.59l7.72-7.72 1.47 1.35L5.41 20z\"/>\n",
              "  </svg>\n",
              "      </button>\n",
              "      \n",
              "  <style>\n",
              "    .colab-df-container {\n",
              "      display:flex;\n",
              "      flex-wrap:wrap;\n",
              "      gap: 12px;\n",
              "    }\n",
              "\n",
              "    .colab-df-convert {\n",
              "      background-color: #E8F0FE;\n",
              "      border: none;\n",
              "      border-radius: 50%;\n",
              "      cursor: pointer;\n",
              "      display: none;\n",
              "      fill: #1967D2;\n",
              "      height: 32px;\n",
              "      padding: 0 0 0 0;\n",
              "      width: 32px;\n",
              "    }\n",
              "\n",
              "    .colab-df-convert:hover {\n",
              "      background-color: #E2EBFA;\n",
              "      box-shadow: 0px 1px 2px rgba(60, 64, 67, 0.3), 0px 1px 3px 1px rgba(60, 64, 67, 0.15);\n",
              "      fill: #174EA6;\n",
              "    }\n",
              "\n",
              "    [theme=dark] .colab-df-convert {\n",
              "      background-color: #3B4455;\n",
              "      fill: #D2E3FC;\n",
              "    }\n",
              "\n",
              "    [theme=dark] .colab-df-convert:hover {\n",
              "      background-color: #434B5C;\n",
              "      box-shadow: 0px 1px 3px 1px rgba(0, 0, 0, 0.15);\n",
              "      filter: drop-shadow(0px 1px 2px rgba(0, 0, 0, 0.3));\n",
              "      fill: #FFFFFF;\n",
              "    }\n",
              "  </style>\n",
              "\n",
              "      <script>\n",
              "        const buttonEl =\n",
              "          document.querySelector('#df-17f6880b-c26e-42b9-bf6e-06583389d159 button.colab-df-convert');\n",
              "        buttonEl.style.display =\n",
              "          google.colab.kernel.accessAllowed ? 'block' : 'none';\n",
              "\n",
              "        async function convertToInteractive(key) {\n",
              "          const element = document.querySelector('#df-17f6880b-c26e-42b9-bf6e-06583389d159');\n",
              "          const dataTable =\n",
              "            await google.colab.kernel.invokeFunction('convertToInteractive',\n",
              "                                                     [key], {});\n",
              "          if (!dataTable) return;\n",
              "\n",
              "          const docLinkHtml = 'Like what you see? Visit the ' +\n",
              "            '<a target=\"_blank\" href=https://colab.research.google.com/notebooks/data_table.ipynb>data table notebook</a>'\n",
              "            + ' to learn more about interactive tables.';\n",
              "          element.innerHTML = '';\n",
              "          dataTable['output_type'] = 'display_data';\n",
              "          await google.colab.output.renderOutput(dataTable, element);\n",
              "          const docLink = document.createElement('div');\n",
              "          docLink.innerHTML = docLinkHtml;\n",
              "          element.appendChild(docLink);\n",
              "        }\n",
              "      </script>\n",
              "    </div>\n",
              "  </div>\n",
              "  "
            ]
          },
          "metadata": {},
          "execution_count": 23
        }
      ]
    },
    {
      "cell_type": "markdown",
      "source": [
        "**Inference**\n",
        "\n",
        "From the above dataframe we can know that the host_id '**107434423**' having 232 no. of rooms and his name is Blueground "
      ],
      "metadata": {
        "id": "lFfM7JVpvWPj"
      }
    },
    {
      "cell_type": "markdown",
      "source": [
        "________________________________________________________________"
      ],
      "metadata": {
        "id": "Y-bsXCF_vdkn"
      }
    },
    {
      "cell_type": "markdown",
      "source": [
        "We will use longitude and latitude to show the locations of the each appartments with respect to neighbourhood and\n",
        "neighbourhood_group in scatterplot."
      ],
      "metadata": {
        "id": "Hvj-15l_vei-"
      }
    },
    {
      "cell_type": "code",
      "source": [
        "# Finding Blueground rooms with respective to the neighbourhood_group\n",
        "plt.figure(figsize=(9,6))\n",
        "sns.scatterplot(x=No_2.longitude,y=No_2.latitude,hue=No_2.neighbourhood_group)"
      ],
      "metadata": {
        "colab": {
          "base_uri": "https://localhost:8080/",
          "height": 406
        },
        "id": "_CXka1ZPue6V",
        "outputId": "eb730c59-7d85-4d5a-90e9-e70f3abc113e"
      },
      "execution_count": null,
      "outputs": [
        {
          "output_type": "execute_result",
          "data": {
            "text/plain": [
              "<matplotlib.axes._subplots.AxesSubplot at 0x7fde7d594650>"
            ]
          },
          "metadata": {},
          "execution_count": 24
        },
        {
          "output_type": "display_data",
          "data": {
            "text/plain": [
              "<Figure size 648x432 with 1 Axes>"
            ],
            "image/png": "[encoded data removed]"
          },
          "metadata": {
            "needs_background": "light"
          }
        }
      ]
    },
    {
      "cell_type": "code",
      "source": [
        "# Finding Blueground rooms with respective to the neighbourhood\n",
        "plt.figure(figsize=(9,6))\n",
        "sns.scatterplot(x=No_2.longitude,y=No_2.latitude,hue=No_2.neighbourhood)"
      ],
      "metadata": {
        "id": "Gjd6MikYVjJq",
        "colab": {
          "base_uri": "https://localhost:8080/",
          "height": 406
        },
        "outputId": "217e6b00-086e-44f5-c76b-0b478593f9ca"
      },
      "execution_count": null,
      "outputs": [
        {
          "output_type": "execute_result",
          "data": {
            "text/plain": [
              "<matplotlib.axes._subplots.AxesSubplot at 0x7fde7d731150>"
            ]
          },
          "metadata": {},
          "execution_count": 25
        },
        {
          "output_type": "display_data",
          "data": {
            "text/plain": [
              "<Figure size 648x432 with 1 Axes>"
            ],
            "image/png": "[encoded data removed]"
          },
          "metadata": {
            "needs_background": "light"
          }
        }
      ]
    },
    {
      "cell_type": "markdown",
      "source": [
        "**Inference**\n",
        "\n",
        "The Blueground having the rooms at two neighbourhood_group which is Manhattan and Brooklyn neighbourhood_group. In manhatten and Brooklyn he has rooms in Twenty one different neighbourhoods"
      ],
      "metadata": {
        "id": "c92BpjdBvoJc"
      }
    },
    {
      "cell_type": "markdown",
      "source": [
        "###Apartment radius for the Blueground"
      ],
      "metadata": {
        "id": "oJlxShAEB9h5"
      }
    },
    {
      "cell_type": "markdown",
      "source": [
        "In order to find the distance range for Blueground we going to add both longitude and latitude to find the minimum and maximum\n",
        "distance."
      ],
      "metadata": {
        "id": "kyqFVGGKCAXx"
      }
    },
    {
      "cell_type": "code",
      "source": [
        "# Finding minimum and maximum geographic coordinate from the scatter plot\n",
        "No_2['new']=No_2['longitude']+ No_2['latitude']\n",
        "Distance = No_2.sort_values(by='new').reset_index()\n",
        "Distance"
      ],
      "metadata": {
        "id": "PNKGqn1lVjG3"
      },
      "execution_count": null,
      "outputs": []
    },
    {
      "cell_type": "code",
      "source": [
        "# Indexing first and last geographic coordinate\n",
        "latitude1=Distance['latitude'][0]\n",
        "longitude1=Distance['longitude'][0]\n",
        "latitude2=Distance['latitude'][231]\n",
        "longitude2=Distance['longitude'][231]"
      ],
      "metadata": {
        "id": "3iSc6TrTcDU3"
      },
      "execution_count": null,
      "outputs": []
    },
    {
      "cell_type": "code",
      "source": [
        "location1=(latitude1,longitude1)\n",
        "location2=(latitude2,longitude2)\n",
        "hs.haversine(location1,location2)/2"
      ],
      "metadata": {
        "id": "yvZ6yIKAVjBk",
        "colab": {
          "base_uri": "https://localhost:8080/"
        },
        "outputId": "187415ab-e337-4bfd-c588-05d78b81a20e"
      },
      "execution_count": null,
      "outputs": [
        {
          "output_type": "execute_result",
          "data": {
            "text/plain": [
              "4.9661643590625415"
            ]
          },
          "metadata": {},
          "execution_count": 28
        }
      ]
    },
    {
      "cell_type": "markdown",
      "source": [
        "All the rooms of Blueground are available within the radius of 4.9kms."
      ],
      "metadata": {
        "id": "uQPtFmpRvx-W"
      }
    },
    {
      "cell_type": "markdown",
      "source": [
        "_______________________________________________________________________________"
      ],
      "metadata": {
        "id": "hnLb9mZ1Cg7x"
      }
    },
    {
      "cell_type": "markdown",
      "source": [
        "###Which type of room is more in number?"
      ],
      "metadata": {
        "id": "5bWOaJbvOcbJ"
      }
    },
    {
      "cell_type": "code",
      "source": [
        "# Codes to find total number of rooms with respect to each room type\n",
        "room_type_count=df.groupby('room_type').host_id.count().reset_index()\n",
        "sns.barplot(data=room_type_count , x='room_type' , y='host_id')')"
      ],
      "metadata": {
        "id": "SWc7dDXPGnQF",
        "colab": {
          "base_uri": "https://localhost:8080/",
          "height": 298
        },
        "outputId": "c0e87704-9bf7-454d-ebb3-be5e29ee4809"
      },
      "execution_count": null,
      "outputs": [
        {
          "output_type": "execute_result",
          "data": {
            "text/plain": [
              "<matplotlib.axes._subplots.AxesSubplot at 0x7fde7d3ec250>"
            ]
          },
          "metadata": {},
          "execution_count": 30
        },
        {
          "output_type": "display_data",
          "data": {
            "text/plain": [
              "<Figure size 432x288 with 1 Axes>"
            ],
            "image/png": "[encoded data removed]"
          },
          "metadata": {
            "needs_background": "light"
          }
        }
      ]
    },
    {
      "cell_type": "markdown",
      "source": [
        "**Inference**\n",
        "      \n",
        "Entire home/apt is more in number followed by private room and shared room."
      ],
      "metadata": {
        "id": "IKMXhZqumFsF"
      }
    },
    {
      "cell_type": "markdown",
      "source": [
        "### Relationship between room type and neighbourhood group."
      ],
      "metadata": {
        "id": "s87TZp4-stwJ"
      }
    },
    {
      "cell_type": "code",
      "source": [
        "# Differentiate each neighbourhood_group with respect to the room_type\n",
        "neighbourhood_group_room_type=df[['neighbourhood_group','room_type']].value_counts().reset_index()\n",
        "neighbourhood_group_room_type.rename(columns = {0:'count'}, inplace = True)\n",
        "plt.figure(figsize=(12,8))\n",
        "sns.barplot(data=neighbourhood_group_room_type, x='neighbourhood_group' , y='count', hue='room_type')"
      ],
      "metadata": {
        "colab": {
          "base_uri": "https://localhost:8080/",
          "height": 487
        },
        "id": "KFirKLnPKExK",
        "outputId": "666fb2a5-56af-4268-f5c1-5ab0a0b7a188"
      },
      "execution_count": null,
      "outputs": [
        {
          "output_type": "execute_result",
          "data": {
            "text/plain": [
              "<matplotlib.axes._subplots.AxesSubplot at 0x7fde7e676210>"
            ]
          },
          "metadata": {},
          "execution_count": 29
        },
        {
          "output_type": "display_data",
          "data": {
            "text/plain": [
              "<Figure size 864x576 with 1 Axes>"
            ],
            "image/png": "[encoded data removed]"
          },
          "metadata": {
            "needs_background": "light"
          }
        }
      ]
    },
    {
      "cell_type": "markdown",
      "source": [
        "**Inference**\n",
        "\n",
        "From the above barplot we can conclude that the maximum number of entire home/apt provided by the manhatten neighbourhood_group and the second place taken by the brooklyn next to that queens. the least number of rooms available in staten island. "
      ],
      "metadata": {
        "id": "ww-rYEKhBR9O"
      }
    },
    {
      "cell_type": "markdown",
      "source": [],
      "metadata": {
        "id": "knXgeOUnkDZq"
      }
    },
    {
      "cell_type": "markdown",
      "source": [
        "Test name\n"
      ],
      "metadata": {
        "id": "19uv949KkKW8"
      }
    },
    {
      "cell_type": "markdown",
      "source": [
        "_______________________________________________________________________________________________"
      ],
      "metadata": {
        "id": "nR_-KsSccV17"
      }
    }
  ]
}